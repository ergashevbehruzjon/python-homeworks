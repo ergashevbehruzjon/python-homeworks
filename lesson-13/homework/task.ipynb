{
 "cells": [
  {
   "cell_type": "code",
   "execution_count": 1,
   "metadata": {},
   "outputs": [],
   "source": [
    "import numpy as np"
   ]
  },
  {
   "cell_type": "markdown",
   "metadata": {},
   "source": [
    "- Create a vector with values ranging from 10 to 49.\n",
    "- Create a 3x3 matrix with values ranging from 0 to 8.\n",
    "- Create a 3x3 identity matrix.\n",
    "- Create a 3x3x3 array with random values.\n",
    "- Create a 10x10 array with random values and find the minimum and maximum values.\n",
    "- Create a random vector of size 30 and find the mean value.\n",
    "- Normalize a 5x5 random matrix.\n",
    "- Multiply a 5x3 matrix by a 3x2 matrix (real matrix product).\n",
    "- Create two 3x3 matrices and compute their dot product.\n",
    "- Given a 4x4 matrix, find its transpose.\n",
    "- Create a 3x3 matrix and calculate its determinant.\n",
    "- Create two matrices ( A ) (3x4) and ( B ) (4x3), and compute the matrix product ( A \\cdot B ).\n",
    "- Create a 3x3 random matrix and a 3-element column vector. Compute the matrix-vector product.\n",
    "- Solve the linear system ( Ax = b ) where ( A ) is a 3x3 matrix, and ( b ) is a 3x1 column vector.\n",
    "- Given a 5x5 matrix, find the row-wise and column-wise sums."
   ]
  },
  {
   "cell_type": "code",
   "execution_count": 63,
   "metadata": {},
   "outputs": [],
   "source": [
    "def randomize(*args,type=int):\n",
    "    return np.array(np.random.random(args)*10,dtype=type)"
   ]
  },
  {
   "cell_type": "code",
   "execution_count": null,
   "metadata": {},
   "outputs": [
    {
     "data": {
      "text/plain": [
       "array([10, 11, 12, 13, 14, 15, 16, 17, 18, 19, 20, 21, 22, 23, 24, 25, 26,\n",
       "       27, 28, 29, 30, 31, 32, 33, 34, 35, 36, 37, 38, 39, 40, 41, 42, 43,\n",
       "       44, 45, 46, 47, 48, 49])"
      ]
     },
     "execution_count": 4,
     "metadata": {},
     "output_type": "execute_result"
    }
   ],
   "source": [
    "rng=np.arange(10,50)\n",
    "print(rng)"
   ]
  },
  {
   "cell_type": "code",
   "execution_count": null,
   "metadata": {},
   "outputs": [
    {
     "data": {
      "text/plain": [
       "array([[0, 1, 2],\n",
       "       [3, 4, 5],\n",
       "       [6, 7, 8]])"
      ]
     },
     "execution_count": 6,
     "metadata": {},
     "output_type": "execute_result"
    }
   ],
   "source": [
    "rng3d=np.reshape(np.arange(9),(3,3))\n",
    "print(rng3d)"
   ]
  },
  {
   "cell_type": "code",
   "execution_count": 33,
   "metadata": {},
   "outputs": [
    {
     "name": "stdout",
     "output_type": "stream",
     "text": [
      "[[1 0 0]\n",
      " [0 1 0]\n",
      " [0 0 1]]\n"
     ]
    }
   ],
   "source": [
    "identity_matrix = np.eye(3,dtype=int)\n",
    "print(identity_matrix)"
   ]
  },
  {
   "cell_type": "code",
   "execution_count": 65,
   "metadata": {},
   "outputs": [
    {
     "name": "stdout",
     "output_type": "stream",
     "text": [
      "[[[4 2 4]\n",
      "  [2 7 5]\n",
      "  [9 7 6]]\n",
      "\n",
      " [[3 8 4]\n",
      "  [0 9 7]\n",
      "  [6 0 7]]\n",
      "\n",
      " [[1 4 9]\n",
      "  [6 9 5]\n",
      "  [3 4 8]]]\n"
     ]
    }
   ],
   "source": [
    "rnd3d = randomize(3,3,3)\n",
    "print(rnd3d)"
   ]
  },
  {
   "cell_type": "code",
   "execution_count": 66,
   "metadata": {},
   "outputs": [
    {
     "name": "stdout",
     "output_type": "stream",
     "text": [
      "[[5 4 6 2 0 6 2 4 4 2]\n",
      " [1 4 7 0 4 5 1 3 8 5]\n",
      " [0 3 2 1 0 3 3 2 1 9]\n",
      " [7 4 0 1 2 6 6 3 1 7]\n",
      " [8 1 1 3 2 1 1 9 1 7]\n",
      " [6 5 4 3 5 5 2 1 9 6]\n",
      " [9 3 3 3 5 9 9 5 3 5]\n",
      " [6 5 0 5 1 0 0 8 2 5]\n",
      " [6 0 7 4 8 6 8 5 6 8]\n",
      " [4 3 8 1 5 0 0 1 2 3]]\n",
      "Minimum Value: 0\n",
      "Maximum Value: 9\n"
     ]
    }
   ],
   "source": [
    "rnd10x10 = randomize(10,10)\n",
    "minn = rnd10x10.min()\n",
    "maxx = rnd10x10.max()\n",
    "print(rnd10x10)\n",
    "print(\"Minimum Value:\", minn)\n",
    "print(\"Maximum Value:\", maxx)"
   ]
  },
  {
   "cell_type": "code",
   "execution_count": 68,
   "metadata": {},
   "outputs": [
    {
     "name": "stdout",
     "output_type": "stream",
     "text": [
      "[2 3 2 9 0 9 7 8 9 6 6 8 5 8 8 9 7 0 2 6 5 7 0 3 1 6 0 2 4 4]\n",
      "Mean Value: 4.866666666666666\n"
     ]
    }
   ],
   "source": [
    "rnd30 = randomize(30)\n",
    "mean = rnd30.mean()\n",
    "print(rnd30)\n",
    "print(\"Mean Value:\", mean)"
   ]
  },
  {
   "cell_type": "code",
   "execution_count": 71,
   "metadata": {},
   "outputs": [
    {
     "name": "stdout",
     "output_type": "stream",
     "text": [
      "Original:\n",
      " [[1 2 3 1 0]\n",
      " [5 7 2 2 9]\n",
      " [2 7 2 4 4]\n",
      " [9 8 2 3 4]\n",
      " [7 3 3 8 0]]\n",
      "Normalized:\n",
      " [[-1.06526784 -0.70045009 -0.33563233 -1.06526784 -1.43008559]\n",
      " [ 0.39400317  1.12363868 -0.70045009 -0.70045009  1.85327419]\n",
      " [-0.70045009  1.12363868 -0.70045009  0.02918542  0.02918542]\n",
      " [ 1.85327419  1.48845643 -0.70045009 -0.33563233  0.02918542]\n",
      " [ 1.12363868 -0.33563233 -0.33563233  1.48845643 -1.43008559]]\n"
     ]
    }
   ],
   "source": [
    "rnd5x5 = randomize(5,5)\n",
    "normalized_matrix = (rnd5x5 - rnd5x5.mean()) / rnd5x5.std()\n",
    "print(\"Original:\\n\",rnd5x5)\n",
    "print(\"Normalized:\\n\", normalized_matrix)"
   ]
  },
  {
   "cell_type": "code",
   "execution_count": 72,
   "metadata": {},
   "outputs": [
    {
     "name": "stdout",
     "output_type": "stream",
     "text": [
      "5x3 Matrix:\n",
      " [[6 4 9]\n",
      " [4 3 8]\n",
      " [3 9 1]\n",
      " [2 7 9]\n",
      " [7 7 8]]\n",
      "3x2 Matrix:\n",
      " [[7 5]\n",
      " [1 0]\n",
      " [6 9]]\n",
      "Matrix Product (5x3 * 3x2):\n",
      " [[100 111]\n",
      " [ 79  92]\n",
      " [ 36  24]\n",
      " [ 75  91]\n",
      " [104 107]]\n"
     ]
    }
   ],
   "source": [
    "mtrx5x3 = randomize(5,3)\n",
    "mtrx3x2 = randomize(3,2)\n",
    "print(\"5x3 Matrix:\\n\", mtrx5x3)\n",
    "print(\"3x2 Matrix:\\n\", mtrx3x2)\n",
    "print(\"Matrix Product (5x3 * 3x2):\\n\", np.dot(mtrx5x3, mtrx3x2))"
   ]
  },
  {
   "cell_type": "code",
   "execution_count": 73,
   "metadata": {},
   "outputs": [
    {
     "name": "stdout",
     "output_type": "stream",
     "text": [
      "3x3 Matrix A:\n",
      " [[3 0 7]\n",
      " [1 9 4]\n",
      " [6 7 5]]\n",
      "3x3 Matrix B:\n",
      " [[3 2 0]\n",
      " [2 0 1]\n",
      " [0 9 1]]\n",
      "Dot Product of A and B:\n",
      " [[ 9 69  7]\n",
      " [21 38 13]\n",
      " [32 57 12]]\n"
     ]
    }
   ],
   "source": [
    "a3x3 = randomize(3,3)\n",
    "b3x3 = randomize(3,3)\n",
    "print(\"3x3 Matrix A:\\n\", a3x3)\n",
    "print(\"3x3 Matrix B:\\n\", b3x3)\n",
    "print(\"Dot Product of A and B:\\n\", np.dot(a3x3, b3x3))"
   ]
  },
  {
   "cell_type": "code",
   "execution_count": null,
   "metadata": {},
   "outputs": [
    {
     "name": "stdout",
     "output_type": "stream",
     "text": [
      "4x4 Matrix:\n",
      " [[2 7 5 5]\n",
      " [4 3 3 4]\n",
      " [8 2 8 4]\n",
      " [7 1 6 3]]\n",
      "Transpose of the 4x4 Matrix:\n",
      " [[2 4 8 7]\n",
      " [7 3 2 1]\n",
      " [5 3 8 6]\n",
      " [5 4 4 3]]\n"
     ]
    }
   ],
   "source": [
    "mtrx4x4 = randomize(4,4)\n",
    "print(\"4x4 Matrix:\\n\", mtrx4x4)\n",
    "print(\"Transpose of the 4x4 Matrix:\\n\", mtrx4x4.T)"
   ]
  },
  {
   "cell_type": "code",
   "execution_count": 76,
   "metadata": {},
   "outputs": [
    {
     "name": "stdout",
     "output_type": "stream",
     "text": [
      "3x3 Matrix:\n",
      " [[2 2 8]\n",
      " [6 5 4]\n",
      " [3 5 5]]\n",
      "Determinant of the 3x3 Matrix: 94.0\n"
     ]
    }
   ],
   "source": [
    "mtrx3x3 = randomize(3,3)\n",
    "print(\"3x3 Matrix:\\n\", mtrx3x3)\n",
    "print(\"Determinant of the 3x3 Matrix:\", np.linalg.det(mtrx3x3))"
   ]
  },
  {
   "cell_type": "code",
   "execution_count": 77,
   "metadata": {},
   "outputs": [
    {
     "name": "stdout",
     "output_type": "stream",
     "text": [
      "Matrix A (3x4):\n",
      " [[7 0 7 3]\n",
      " [1 6 3 8]\n",
      " [0 0 4 0]]\n",
      "Matrix B (4x3):\n",
      " [[5 6 0]\n",
      " [8 4 6]\n",
      " [1 6 8]\n",
      " [5 8 5]]\n",
      "Matrix Product (A · B):\n",
      " [[ 57 108  71]\n",
      " [ 96 112 100]\n",
      " [  4  24  32]]\n"
     ]
    }
   ],
   "source": [
    "mtrxA = randomize(3,4)\n",
    "mtrxB = randomize(4,3)\n",
    "print(\"Matrix A (3x4):\\n\", mtrxA)\n",
    "print(\"Matrix B (4x3):\\n\", mtrxB)\n",
    "print(\"Matrix Product (A · B):\\n\", np.dot(mtrxA, mtrxB))"
   ]
  },
  {
   "cell_type": "code",
   "execution_count": 78,
   "metadata": {},
   "outputs": [
    {
     "name": "stdout",
     "output_type": "stream",
     "text": [
      "3x3 Random Matrix:\n",
      " [[8 4 3]\n",
      " [4 3 4]\n",
      " [7 8 0]]\n",
      "3-Element Column Vector:\n",
      " [4 5 1]\n",
      "Matrix-Vector Product:\n",
      " [55 35 68]\n"
     ]
    }
   ],
   "source": [
    "mtrx3x3 = randomize(3,3)\n",
    "vec3 = randomize(3)\n",
    "print(\"3x3 Random Matrix:\\n\", mtrx3x3)\n",
    "print(\"3-Element Column Vector:\\n\", vec3)\n",
    "print(\"Matrix-Vector Product:\\n\", np.dot(mtrx3x3, vec3))"
   ]
  },
  {
   "cell_type": "code",
   "execution_count": 79,
   "metadata": {},
   "outputs": [
    {
     "name": "stdout",
     "output_type": "stream",
     "text": [
      "Matrix A (3x3):\n",
      " [[9 4 4]\n",
      " [7 3 5]\n",
      " [6 8 7]]\n",
      "Column Vector b (3x1):\n",
      " [3 9 5]\n",
      "Solution x of the Linear System (Ax = b):\n",
      " [-0.2 -2.2  3.4]\n"
     ]
    }
   ],
   "source": [
    "A = randomize(3,3)\n",
    "b = randomize(3)\n",
    "print(\"Matrix A (3x3):\\n\", A)\n",
    "print(\"Column Vector b (3x1):\\n\", b)\n",
    "print(\"Solution x of the Linear System (Ax = b):\\n\", np.linalg.solve(A, b))"
   ]
  },
  {
   "cell_type": "code",
   "execution_count": 80,
   "metadata": {},
   "outputs": [
    {
     "name": "stdout",
     "output_type": "stream",
     "text": [
      "5x5 Matrix:\n",
      " [[9 5 4 7 5]\n",
      " [7 4 5 8 6]\n",
      " [9 8 4 3 6]\n",
      " [9 8 0 9 2]\n",
      " [1 0 9 0 8]]\n",
      "Row-wise Sums:\n",
      " [30 30 30 28 18]\n",
      "Column-wise Sums:\n",
      " [35 25 22 27 27]\n"
     ]
    }
   ],
   "source": [
    "mtrx5x5 = randomize(5,5)\n",
    "row_sum = mtrx5x5.sum(axis=1)\n",
    "col_sum = mtrx5x5.sum(axis=0)\n",
    "print(\"5x5 Matrix:\\n\", mtrx5x5)\n",
    "print(\"Row-wise Sums:\\n\", row_sum)\n",
    "print(\"Column-wise Sums:\\n\", col_sum)"
   ]
  }
 ],
 "metadata": {
  "kernelspec": {
   "display_name": "Python 3",
   "language": "python",
   "name": "python3"
  },
  "language_info": {
   "codemirror_mode": {
    "name": "ipython",
    "version": 3
   },
   "file_extension": ".py",
   "mimetype": "text/x-python",
   "name": "python",
   "nbconvert_exporter": "python",
   "pygments_lexer": "ipython3",
   "version": "3.13.2"
  }
 },
 "nbformat": 4,
 "nbformat_minor": 2
}
