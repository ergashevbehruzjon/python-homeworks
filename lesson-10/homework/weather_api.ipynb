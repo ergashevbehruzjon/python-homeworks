{
 "cells": [
  {
   "cell_type": "code",
   "execution_count": 1,
   "metadata": {},
   "outputs": [],
   "source": [
    "import requests"
   ]
  },
  {
   "cell_type": "code",
   "execution_count": 56,
   "metadata": {},
   "outputs": [],
   "source": [
    "api=input("Enter your APIID: ")\n",
    "res = requests.post(f\"https://api.openweathermap.org/data/2.5/weather?lat=41.30&lon=69.24&APPID={api}\",data={'key':'value'})\n",
    "# res = requests.post(f\"https://api.openweathermap.org/data/3.0/onecall?lat=41.30&lon=69.24&APPID={api}\",data={'key':'value'})"
   ]
  },
  {
   "cell_type": "code",
   "execution_count": 57,
   "metadata": {},
   "outputs": [
    {
     "name": "stdout",
     "output_type": "stream",
     "text": [
      "City: Tashkent (lattitude: 41.30 and longitude: 69.24)\n",
      "Main: Clouds\n",
      "Temperature: 8.54 °C\n",
      "Feels like: 7.12 °C\n",
      "Pressure: 1019 Pa\n",
      "Humidity: 55 %\n",
      "Wind: 2.46 km/h in 211 defrees\n"
     ]
    }
   ],
   "source": [
    "content=res.json()\n",
    "# print(content)\n",
    "def kToC(temp):\n",
    "    return temp-273.15\n",
    "print(\"City: Tashkent (lattitude: 41.30 and longitude: 69.24)\")\n",
    "print(f\"Main: {content['weather'][0]['main']}\")\n",
    "print(f\"Temperature: {kToC(content['main']['temp']):.2f} °C\")\n",
    "print(f\"Feels like: {kToC(content['main']['feels_like']):.2f} °C\")\n",
    "print(f\"Pressure: {content['main']['pressure']} Pa\")\n",
    "print(f\"Humidity: {content['main']['humidity']} %\")\n",
    "print(f\"Wind: {content['wind']['speed']} km/h in {content['wind']['deg']} defrees\")"
   ]
  }
 ],
 "metadata": {
  "kernelspec": {
   "display_name": "Python 3",
   "language": "python",
   "name": "python3"
  },
  "language_info": {
   "codemirror_mode": {
    "name": "ipython",
    "version": 3
   },
   "file_extension": ".py",
   "mimetype": "text/x-python",
   "name": "python",
   "nbconvert_exporter": "python",
   "pygments_lexer": "ipython3",
   "version": "3.13.2"
  }
 },
 "nbformat": 4,
 "nbformat_minor": 2
}
