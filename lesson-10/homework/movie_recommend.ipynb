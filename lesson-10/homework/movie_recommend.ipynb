{
 "cells": [
  {
   "cell_type": "code",
   "execution_count": 3,
   "metadata": {},
   "outputs": [],
   "source": [
    "import requests\n",
    "import random"
   ]
  },
  {
   "cell_type": "code",
   "execution_count": null,
   "metadata": {},
   "outputs": [
    {
     "name": "stdout",
     "output_type": "stream",
     "text": [
      "Recommended Movie: Gladiator II\n",
      "Overview: Years after witnessing the death of the revered hero Maximus at the hands of his uncle, Lucius is forced to enter the Colosseum after his home is conquered by the tyrannical Emperors who now lead Rome with an iron fist. With rage in his heart and the future of the Empire at stake, Lucius must look to his past to find strength and honor to return the glory of Rome to its people.\n"
     ]
    }
   ],
   "source": [
    "def get_genres(api_key):\n",
    "    url = f\"https://api.themoviedb.org/3/genre/movie/list?api_key={api_key}&language=en-US\"\n",
    "    response = requests.get(url)\n",
    "    data = response.json()\n",
    "    return data['genres']\n",
    "\n",
    "api_key = input(\"Enter your API_key: \")\n",
    "genre_name = input(\"Enter a movie genre: \")\n",
    "genres = get_genres(api_key)\n",
    "genre_id = None\n",
    "for genre in genres:\n",
    "    if genre['name'].lower() == genre_name.lower():\n",
    "        genre_id = genre['id']\n",
    "        break\n",
    "if genre_id is None:\n",
    "    print(f\"Genre '{genre_name}' not found.\")\n",
    "    exit()\n",
    "url = f\"https://api.themoviedb.org/3/discover/movie?api_key={api_key}&with_genres={genre_id}\"\n",
    "response = requests.get(url)\n",
    "movies = response.json()['results']\n",
    "if not movies:\n",
    "    print(f\"No movies found for genre '{genre_name}'.\")\n",
    "    exit()\n",
    "recommended_movie = random.choice(movies)\n",
    "print(f\"Recommended Movie: {recommended_movie['title']}\")\n",
    "print(f\"Overview: {recommended_movie['overview']}\")"
   ]
  }
 ],
 "metadata": {
  "kernelspec": {
   "display_name": "Python 3",
   "language": "python",
   "name": "python3"
  },
  "language_info": {
   "codemirror_mode": {
    "name": "ipython",
    "version": 3
   },
   "file_extension": ".py",
   "mimetype": "text/x-python",
   "name": "python",
   "nbconvert_exporter": "python",
   "pygments_lexer": "ipython3",
   "version": "3.13.2"
  }
 },
 "nbformat": 4,
 "nbformat_minor": 2
}
