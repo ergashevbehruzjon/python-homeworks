{
 "cells": [
  {
   "cell_type": "code",
   "execution_count": 36,
   "metadata": {},
   "outputs": [],
   "source": [
    "set1={0,3,2,37,6,7,1,8,9,36,4,12,45,15,17,5,27}\n",
    "set2={2,8,1,0,3,7,12,32,8,36,12,43,19,5,27,6}"
   ]
  },
  {
   "cell_type": "code",
   "execution_count": 37,
   "metadata": {},
   "outputs": [
    {
     "name": "stdout",
     "output_type": "stream",
     "text": [
      "{0, 1, 2, 3, 4, 5, 6, 7, 8, 9, 12, 15, 17, 19, 27, 32, 36, 37, 43, 45}\n"
     ]
    }
   ],
   "source": [
    "new_set=set1|set2\n",
    "print(new_set)"
   ]
  },
  {
   "cell_type": "code",
   "execution_count": 38,
   "metadata": {},
   "outputs": [
    {
     "name": "stdout",
     "output_type": "stream",
     "text": [
      "{0, 1, 2, 3, 36, 5, 6, 7, 8, 12, 27}\n"
     ]
    }
   ],
   "source": [
    "new_set=set1&set2\n",
    "print(new_set)"
   ]
  },
  {
   "cell_type": "code",
   "execution_count": 39,
   "metadata": {},
   "outputs": [
    {
     "name": "stdout",
     "output_type": "stream",
     "text": [
      "Difference: {4, 37, 9, 45, 15, 17}\n"
     ]
    }
   ],
   "source": [
    "new_set=set1-set2\n",
    "print(\"Difference:\", new_set)"
   ]
  },
  {
   "cell_type": "code",
   "execution_count": 42,
   "metadata": {},
   "outputs": [
    {
     "name": "stdout",
     "output_type": "stream",
     "text": [
      "Is one of them subset of other? False\n"
     ]
    }
   ],
   "source": [
    "print(\"Is one of them subset of other?\", set1<=set2 or set2<=set1)"
   ]
  },
  {
   "cell_type": "code",
   "execution_count": 43,
   "metadata": {},
   "outputs": [
    {
     "name": "stdout",
     "output_type": "stream",
     "text": [
      "Element exists.\n"
     ]
    }
   ],
   "source": [
    "element=5\n",
    "if element in set1:\n",
    "    print(\"Element exists.\")\n",
    "else:\n",
    "    print(\"Element is not in the set.\")"
   ]
  },
  {
   "cell_type": "code",
   "execution_count": 44,
   "metadata": {},
   "outputs": [
    {
     "name": "stdout",
     "output_type": "stream",
     "text": [
      "Length: 17\n"
     ]
    }
   ],
   "source": [
    "print(\"Length:\", len(set1))"
   ]
  },
  {
   "cell_type": "code",
   "execution_count": 45,
   "metadata": {},
   "outputs": [
    {
     "name": "stdout",
     "output_type": "stream",
     "text": [
      "List to Set: {1, 2, 3, 4, 5, 6, 8, 9, 11, 46, 15, 49, 23}\n"
     ]
    }
   ],
   "source": [
    "lst=[2,3,5,6,9,1,2,11,23,46,2,4,8,49,2,15]\n",
    "new_set=set(lst)\n",
    "print(\"List to Set:\", new_set)"
   ]
  },
  {
   "cell_type": "code",
   "execution_count": 46,
   "metadata": {},
   "outputs": [
    {
     "name": "stdout",
     "output_type": "stream",
     "text": [
      "After removing 5: {0, 1, 2, 3, 4, 6, 7, 8, 9, 12, 15, 17, 27, 36, 37, 45}\n"
     ]
    }
   ],
   "source": [
    "element=5\n",
    "if element in set1:\n",
    "    set1.remove(element)\n",
    "    print(\"After removing 5:\", set1)\n",
    "else:\n",
    "    print(\"Element is not in the set\")"
   ]
  },
  {
   "cell_type": "code",
   "execution_count": 47,
   "metadata": {},
   "outputs": [
    {
     "name": "stdout",
     "output_type": "stream",
     "text": [
      "Cleared Set: set()\n"
     ]
    }
   ],
   "source": [
    "new_set = set1.copy()\n",
    "new_set.clear()\n",
    "print(\"Cleared Set:\", new_set)"
   ]
  },
  {
   "cell_type": "code",
   "execution_count": 48,
   "metadata": {},
   "outputs": [
    {
     "name": "stdout",
     "output_type": "stream",
     "text": [
      "Is Empty? True\n"
     ]
    }
   ],
   "source": [
    "print(\"Is Empty?\", len(new_set)==0)"
   ]
  },
  {
   "cell_type": "code",
   "execution_count": 49,
   "metadata": {},
   "outputs": [
    {
     "name": "stdout",
     "output_type": "stream",
     "text": [
      "Symmetric Difference: {32, 5, 9, 4, 43, 37, 45, 15, 17, 19}\n"
     ]
    }
   ],
   "source": [
    "new_set = set1^set2\n",
    "print(\"Symmetric Difference:\", new_set)"
   ]
  },
  {
   "cell_type": "code",
   "execution_count": 50,
   "metadata": {},
   "outputs": [
    {
     "name": "stdout",
     "output_type": "stream",
     "text": [
      "After adding 50: {0, 1, 2, 3, 4, 6, 7, 8, 9, 12, 15, 17, 27, 36, 37, 45, 50}\n"
     ]
    }
   ],
   "source": [
    "set1.add(50)\n",
    "print(\"After adding 50:\", set1)"
   ]
  },
  {
   "cell_type": "code",
   "execution_count": 51,
   "metadata": {},
   "outputs": [
    {
     "name": "stdout",
     "output_type": "stream",
     "text": [
      "Popped Element: 0\n",
      "After popping an element: {1, 2, 3, 4, 6, 7, 8, 9, 12, 15, 17, 27, 36, 37, 45, 50}\n"
     ]
    }
   ],
   "source": [
    "pop_elem = set1.pop()\n",
    "print(\"Popped Element:\", pop_elem)\n",
    "print(\"After popping an element:\",set1)"
   ]
  },
  {
   "cell_type": "code",
   "execution_count": 52,
   "metadata": {},
   "outputs": [
    {
     "name": "stdout",
     "output_type": "stream",
     "text": [
      "Max Element: 50\n"
     ]
    }
   ],
   "source": [
    "print(\"Max Element:\", max(set1))"
   ]
  },
  {
   "cell_type": "code",
   "execution_count": 53,
   "metadata": {},
   "outputs": [
    {
     "name": "stdout",
     "output_type": "stream",
     "text": [
      "Min Element: 1\n"
     ]
    }
   ],
   "source": [
    "print(\"Min Element:\", min(set1))"
   ]
  },
  {
   "cell_type": "code",
   "execution_count": 54,
   "metadata": {},
   "outputs": [
    {
     "name": "stdout",
     "output_type": "stream",
     "text": [
      "Even Numbers: {2, 4, 36, 6, 8, 12, 50}\n"
     ]
    }
   ],
   "source": [
    "new_set = {x for x in set1 if x%2<1}\n",
    "print(\"Even Numbers:\", new_set)"
   ]
  },
  {
   "cell_type": "code",
   "execution_count": null,
   "metadata": {},
   "outputs": [
    {
     "name": "stdout",
     "output_type": "stream",
     "text": [
      "Odd numbers in set1: {1, 3, 37, 7, 9, 45, 15, 17, 27}\n"
     ]
    }
   ],
   "source": [
    "new_set = {x for x in set1 if x%2}\n",
    "print(\"Odd numbers in set1:\", new_set)"
   ]
  },
  {
   "cell_type": "code",
   "execution_count": 56,
   "metadata": {},
   "outputs": [
    {
     "name": "stdout",
     "output_type": "stream",
     "text": [
      "Set of numbers from 1 to 10: {1, 2, 3, 4, 5, 6, 7, 8, 9, 10}\n"
     ]
    }
   ],
   "source": [
    "range_set=set(range(1,11))\n",
    "print(\"Set of numbers from 1 to 10:\", range_set)"
   ]
  },
  {
   "cell_type": "code",
   "execution_count": 57,
   "metadata": {},
   "outputs": [
    {
     "name": "stdout",
     "output_type": "stream",
     "text": [
      "New set: {1, 2, 3, 4, 5, 6, 7, 8}\n"
     ]
    }
   ],
   "source": [
    "lst1=[2,3,6,7,5,3,5,12,34,23]\n",
    "lst2=[1,3,7,9,4,0,12,30,94,45]\n",
    "new_set=set(list1+list2)\n",
    "print(\"New set:\", new_set)"
   ]
  },
  {
   "cell_type": "code",
   "execution_count": 58,
   "metadata": {},
   "outputs": [
    {
     "name": "stdout",
     "output_type": "stream",
     "text": [
      "Are set1 and set2 disjoint? False\n"
     ]
    }
   ],
   "source": [
    "print(\"Are set1 and set2 disjoint?\", set1.isdisjoint(set2))"
   ]
  },
  {
   "cell_type": "code",
   "execution_count": 60,
   "metadata": {},
   "outputs": [
    {
     "name": "stdout",
     "output_type": "stream",
     "text": [
      "Count of unique elements: 10\n"
     ]
    }
   ],
   "source": [
    "lst=[2,3,6,4,5,21,3,49.10,13,2,6,9,0,2,3]\n",
    "print(\"Count of unique elements:\", len(set(lst)))"
   ]
  },
  {
   "cell_type": "code",
   "execution_count": 34,
   "metadata": {},
   "outputs": [
    {
     "name": "stdout",
     "output_type": "stream",
     "text": [
      "Count of unique elements in list a: 16\n"
     ]
    }
   ],
   "source": [
    "unique_count = len(set(a))\n",
    "print(\"Count of unique elements in list a:\", unique_count)"
   ]
  },
  {
   "cell_type": "code",
   "execution_count": 78,
   "metadata": {},
   "outputs": [
    {
     "name": "stdout",
     "output_type": "stream",
     "text": [
      "Random set of 10 integers: {1, 67, 36, 69, 11, 78, 15, 80, 82, 21, 24, 25}\n"
     ]
    }
   ],
   "source": [
    "import random\n",
    "num=12\n",
    "random_set={random.randint(1,100) for _ in range(num)}\n",
    "print(\"Random set of 10 integers:\", random_set)"
   ]
  }
 ],
 "metadata": {
  "kernelspec": {
   "display_name": "Python 3",
   "language": "python",
   "name": "python3"
  },
  "language_info": {
   "codemirror_mode": {
    "name": "ipython",
    "version": 3
   },
   "file_extension": ".py",
   "mimetype": "text/x-python",
   "name": "python",
   "nbconvert_exporter": "python",
   "pygments_lexer": "ipython3",
   "version": "3.13.2"
  }
 },
 "nbformat": 4,
 "nbformat_minor": 2
}
