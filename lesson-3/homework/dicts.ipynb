{
 "cells": [
  {
   "cell_type": "code",
   "execution_count": 27,
   "metadata": {},
   "outputs": [],
   "source": [
    "dict1={1:\"one\",40:\"fourty\",50:\"fifty\",4:\"four\",5:\"five\",10:\"ten\",2:\"two\",3:\"three\",20:\"twenty\",30:\"thirty\"}"
   ]
  },
  {
   "cell_type": "code",
   "execution_count": 53,
   "metadata": {},
   "outputs": [
    {
     "name": "stdout",
     "output_type": "stream",
     "text": [
      "updated_value\n"
     ]
    }
   ],
   "source": [
    "key=4\n",
    "print(dict1.get(key, \"key not found\"))"
   ]
  },
  {
   "cell_type": "code",
   "execution_count": 54,
   "metadata": {},
   "outputs": [
    {
     "name": "stdout",
     "output_type": "stream",
     "text": [
      "Key is not in the dictionary\n"
     ]
    }
   ],
   "source": [
    "key=7\n",
    "if key in dict1:\n",
    "    print(\"Key is in the dictionary\")\n",
    "else:\n",
    "    print(\"Key is not in the dictionary\")"
   ]
  },
  {
   "cell_type": "code",
   "execution_count": 56,
   "metadata": {},
   "outputs": [
    {
     "name": "stdout",
     "output_type": "stream",
     "text": [
      "Number of keys: 9\n"
     ]
    }
   ],
   "source": [
    "print(\"Number of keys:\",len(dict1))"
   ]
  },
  {
   "cell_type": "code",
   "execution_count": 60,
   "metadata": {},
   "outputs": [
    {
     "name": "stdout",
     "output_type": "stream",
     "text": [
      "[1, 40, 50, 4, 5, 10, 2, 20, 30]\n"
     ]
    }
   ],
   "source": [
    "key_list=list(dict1.keys())\n",
    "print(key_list)"
   ]
  },
  {
   "cell_type": "code",
   "execution_count": 61,
   "metadata": {},
   "outputs": [
    {
     "name": "stdout",
     "output_type": "stream",
     "text": [
      "['one', 'fourty', 'fifty', 'updated_value', 'five', 'ten', 'two', 'twenty', 'thirty']\n"
     ]
    }
   ],
   "source": [
    "value_list=list(dict1.values())\n",
    "print(value_list)"
   ]
  },
  {
   "cell_type": "code",
   "execution_count": 62,
   "metadata": {},
   "outputs": [
    {
     "name": "stdout",
     "output_type": "stream",
     "text": [
      "{1: 'one', 40: 'fourty', 50: 'fifty', 4: 'updated_value', 5: 'five', 10: 'ten', 2: 'two', 20: 'twenty', 30: 'thirty', 11: 'eleven', 12: 'twelve'}\n"
     ]
    }
   ],
   "source": [
    "dict2={11:\"eleven\",12:\"twelve\"}\n",
    "new_dict={**dict1, **dict2}\n",
    "print(new_dict)"
   ]
  },
  {
   "cell_type": "code",
   "execution_count": 66,
   "metadata": {},
   "outputs": [
    {
     "name": "stdout",
     "output_type": "stream",
     "text": [
      "Key is not in dict\n"
     ]
    }
   ],
   "source": [
    "key=3\n",
    "if key in dict1:\n",
    "    del dict1[key]\n",
    "    print(\"After removing:\",dict1)\n",
    "else:\n",
    "    print(\"Key is not in dict\")"
   ]
  },
  {
   "cell_type": "code",
   "execution_count": 70,
   "metadata": {},
   "outputs": [
    {
     "name": "stdout",
     "output_type": "stream",
     "text": [
      "Empty dict: {}\n"
     ]
    }
   ],
   "source": [
    "new_dict=dict1.copy()\n",
    "new_dict.clear()\n",
    "print(\"Empty dict:\",new_dict)"
   ]
  },
  {
   "cell_type": "code",
   "execution_count": null,
   "metadata": {},
   "outputs": [
    {
     "name": "stdout",
     "output_type": "stream",
     "text": [
      "Is the dict empty? False\n"
     ]
    }
   ],
   "source": [
    "print(\"Is the dict empty?\",len(dict1)==0)"
   ]
  },
  {
   "cell_type": "code",
   "execution_count": 72,
   "metadata": {},
   "outputs": [
    {
     "name": "stdout",
     "output_type": "stream",
     "text": [
      "Key-value pair: (5, 'five')\n"
     ]
    }
   ],
   "source": [
    "key=5\n",
    "if key in dict1:\n",
    "    print(\"Key-value pair:\",(key,dict1[key]))\n",
    "else:\n",
    "    print(\"Key is not found\")"
   ]
  },
  {
   "cell_type": "code",
   "execution_count": 73,
   "metadata": {},
   "outputs": [
    {
     "name": "stdout",
     "output_type": "stream",
     "text": [
      "{1: 'one', 40: 'fourty', 50: 'fifty', 4: 'fourfour', 5: 'five', 10: 'ten', 2: 'two', 20: 'twenty', 30: 'thirty'}\n"
     ]
    }
   ],
   "source": [
    "key=4\n",
    "dict1[key]=\"fourfour\"\n",
    "print(dict1)"
   ]
  },
  {
   "cell_type": "code",
   "execution_count": 74,
   "metadata": {},
   "outputs": [
    {
     "name": "stdout",
     "output_type": "stream",
     "text": [
      "1\n"
     ]
    }
   ],
   "source": [
    "value=\"fifty\"\n",
    "count=list(dict1.values()).count(value)\n",
    "print(count)"
   ]
  },
  {
   "cell_type": "code",
   "execution_count": 75,
   "metadata": {},
   "outputs": [
    {
     "name": "stdout",
     "output_type": "stream",
     "text": [
      "{'one': 1, 'fourty': 40, 'fifty': 50, 'fourfour': 4, 'five': 5, 'ten': 10, 'two': 2, 'twenty': 20, 'thirty': 30}\n"
     ]
    }
   ],
   "source": [
    "new_dict = {v: k for k, v in dict1.items()}\n",
    "print(new_dict)"
   ]
  },
  {
   "cell_type": "code",
   "execution_count": 78,
   "metadata": {},
   "outputs": [
    {
     "name": "stdout",
     "output_type": "stream",
     "text": [
      "Keys that have the value: [5]\n"
     ]
    }
   ],
   "source": [
    "value=\"five\"\n",
    "keys_with_value=[k for k, v in dict1.items() if v==value]\n",
    "print(\"Keys that have the value:\",keys_with_value)"
   ]
  },
  {
   "cell_type": "code",
   "execution_count": 79,
   "metadata": {},
   "outputs": [
    {
     "name": "stdout",
     "output_type": "stream",
     "text": [
      "New dict with 2 lists merged: {0: 'zero', 3: 'three', 5: 'five', 7: 'seven'}\n"
     ]
    }
   ],
   "source": [
    "keys=[0,3,5,7]\n",
    "values=[\"zero\",\"three\",\"five\",\"seven\"]\n",
    "new_dict=dict(zip(keys, values))\n",
    "print(\"New dict with 2 lists merged:\",new_dict)"
   ]
  },
  {
   "cell_type": "code",
   "execution_count": 80,
   "metadata": {},
   "outputs": [
    {
     "name": "stdout",
     "output_type": "stream",
     "text": [
      "Is any value also dict? False\n"
     ]
    }
   ],
   "source": [
    "print(\"Is any value also dict?\",any(isinstance(v, dict) for v in dict1.values()))"
   ]
  },
  {
   "cell_type": "code",
   "execution_count": 83,
   "metadata": {},
   "outputs": [
    {
     "name": "stdout",
     "output_type": "stream",
     "text": [
      "1\n"
     ]
    }
   ],
   "source": [
    "nested_dict = {1: {\"one\": 1},2:\"two\"}\n",
    "for v in nested_dict.values():\n",
    "    if isinstance(v,dict):\n",
    "        value=v[list(v.keys())[0]]\n",
    "        break\n",
    "print(value)"
   ]
  },
  {
   "cell_type": "code",
   "execution_count": 85,
   "metadata": {},
   "outputs": [
    {
     "name": "stdout",
     "output_type": "stream",
     "text": [
      "-1\n"
     ]
    }
   ],
   "source": [
    "from collections import defaultdict\n",
    "default_dict = defaultdict(lambda:-1)\n",
    "print(default_dict[8])"
   ]
  },
  {
   "cell_type": "code",
   "execution_count": 86,
   "metadata": {},
   "outputs": [
    {
     "name": "stdout",
     "output_type": "stream",
     "text": [
      "9\n"
     ]
    }
   ],
   "source": [
    "count=len(set(dict1.values()))\n",
    "print(count)"
   ]
  },
  {
   "cell_type": "code",
   "execution_count": 87,
   "metadata": {},
   "outputs": [
    {
     "name": "stdout",
     "output_type": "stream",
     "text": [
      "{1: 'one', 2: 'two', 4: 'fourfour', 5: 'five', 10: 'ten', 20: 'twenty', 30: 'thirty', 40: 'fourty', 50: 'fifty'}\n"
     ]
    }
   ],
   "source": [
    "new_dict = dict(sorted(dict1.items()))\n",
    "print(new_dict)"
   ]
  },
  {
   "cell_type": "code",
   "execution_count": 89,
   "metadata": {},
   "outputs": [
    {
     "name": "stdout",
     "output_type": "stream",
     "text": [
      "{50: 'fifty', 5: 'five', 4: 'fourfour', 40: 'fourty', 1: 'one', 10: 'ten', 30: 'thirty', 20: 'twenty', 2: 'two'}\n"
     ]
    }
   ],
   "source": [
    "new_dict = dict(sorted(dict1.items(), key=lambda item: item[1]))\n",
    "print(new_dict)"
   ]
  },
  {
   "cell_type": "code",
   "execution_count": 90,
   "metadata": {},
   "outputs": [
    {
     "name": "stdout",
     "output_type": "stream",
     "text": [
      "{}\n"
     ]
    }
   ],
   "source": [
    "new_dict = {k: v for k, v in dict1.items() if isinstance(v, int) and v > 10}\n",
    "print(new_dict)"
   ]
  },
  {
   "cell_type": "code",
   "execution_count": 91,
   "metadata": {},
   "outputs": [
    {
     "name": "stdout",
     "output_type": "stream",
     "text": [
      "{4, 5}\n"
     ]
    }
   ],
   "source": [
    "dict3 = {4: 'four', 5: 'five'}\n",
    "common_k = set(dict1.keys()).intersection(dict3.keys())\n",
    "print(common_k)"
   ]
  },
  {
   "cell_type": "code",
   "execution_count": 92,
   "metadata": {},
   "outputs": [
    {
     "name": "stdout",
     "output_type": "stream",
     "text": [
      "{1: 'one', 2: 'two'}\n"
     ]
    }
   ],
   "source": [
    "tuple_pairs = ((1, 'one'), (2, 'two'))\n",
    "new_dict = dict(tuple_pairs)\n",
    "print(new_dict)"
   ]
  },
  {
   "cell_type": "code",
   "execution_count": 93,
   "metadata": {},
   "outputs": [
    {
     "name": "stdout",
     "output_type": "stream",
     "text": [
      "(1, 'one')\n"
     ]
    }
   ],
   "source": [
    "first_kv_pair = next(iter(dict1.items()))\n",
    "print(first_kv_pair)"
   ]
  }
 ],
 "metadata": {
  "kernelspec": {
   "display_name": "Python 3",
   "language": "python",
   "name": "python3"
  },
  "language_info": {
   "codemirror_mode": {
    "name": "ipython",
    "version": 3
   },
   "file_extension": ".py",
   "mimetype": "text/x-python",
   "name": "python",
   "nbconvert_exporter": "python",
   "pygments_lexer": "ipython3",
   "version": "3.13.2"
  }
 },
 "nbformat": 4,
 "nbformat_minor": 2
}
