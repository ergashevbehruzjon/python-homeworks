{
 "cells": [
  {
   "cell_type": "code",
   "execution_count": 31,
   "metadata": {},
   "outputs": [],
   "source": [
    "tpl=(2,3,6,4,5,8,4,12,10,1,23,6,54,38,6,8,9)"
   ]
  },
  {
   "cell_type": "code",
   "execution_count": 34,
   "metadata": {},
   "outputs": [
    {
     "name": "stdout",
     "output_type": "stream",
     "text": [
      "2\n"
     ]
    }
   ],
   "source": [
    "element=4\n",
    "print(tpl.count(element))"
   ]
  },
  {
   "cell_type": "code",
   "execution_count": 32,
   "metadata": {},
   "outputs": [
    {
     "name": "stdout",
     "output_type": "stream",
     "text": [
      "Max Element: 54\n"
     ]
    }
   ],
   "source": [
    "max_e = max(tpl)\n",
    "print(\"Max Element:\", max_e)"
   ]
  },
  {
   "cell_type": "code",
   "execution_count": 35,
   "metadata": {},
   "outputs": [
    {
     "name": "stdout",
     "output_type": "stream",
     "text": [
      "Min Element: 1\n"
     ]
    }
   ],
   "source": [
    "min_e = min(tpl)\n",
    "print(\"Min Element:\", min_e)"
   ]
  },
  {
   "cell_type": "code",
   "execution_count": 36,
   "metadata": {},
   "outputs": [
    {
     "name": "stdout",
     "output_type": "stream",
     "text": [
      "Is element present in tuple? True\n"
     ]
    }
   ],
   "source": [
    "element=5\n",
    "print(f\"Is element present in tuple?\", element in tpl)"
   ]
  },
  {
   "cell_type": "code",
   "execution_count": 37,
   "metadata": {},
   "outputs": [
    {
     "name": "stdout",
     "output_type": "stream",
     "text": [
      "2\n"
     ]
    }
   ],
   "source": [
    "if tpl:\n",
    "    print(tpl[0])\n",
    "else:\n",
    "    print(\"Tuple is empty.\")"
   ]
  },
  {
   "cell_type": "code",
   "execution_count": 38,
   "metadata": {},
   "outputs": [
    {
     "name": "stdout",
     "output_type": "stream",
     "text": [
      "9\n"
     ]
    }
   ],
   "source": [
    "if tpl:\n",
    "    print(tpl[-1])\n",
    "else:\n",
    "    print(\"Tuple is empty.\")"
   ]
  },
  {
   "cell_type": "code",
   "execution_count": 39,
   "metadata": {},
   "outputs": [
    {
     "name": "stdout",
     "output_type": "stream",
     "text": [
      "Tuple Length: 17\n"
     ]
    }
   ],
   "source": [
    "print(\"Tuple Length:\", len(tpl))"
   ]
  },
  {
   "cell_type": "code",
   "execution_count": 40,
   "metadata": {},
   "outputs": [
    {
     "name": "stdout",
     "output_type": "stream",
     "text": [
      "Sliced Tuple: (2, 3, 6)\n"
     ]
    }
   ],
   "source": [
    "sliced = tpl[:3]\n",
    "print(\"Sliced Tuple:\", sliced)"
   ]
  },
  {
   "cell_type": "code",
   "execution_count": 41,
   "metadata": {},
   "outputs": [
    {
     "name": "stdout",
     "output_type": "stream",
     "text": [
      "Concatenated Tuple: (2, 3, 6, 4, 5, 8, 4, 12, 10, 1, 23, 6, 54, 38, 6, 8, 9, 100, 200, 300)\n"
     ]
    }
   ],
   "source": [
    "tpl2 = (100, 200, 300)\n",
    "concat = tpl + tpl2\n",
    "print(\"Concatenated Tuple:\", concat)"
   ]
  },
  {
   "cell_type": "code",
   "execution_count": 42,
   "metadata": {},
   "outputs": [
    {
     "name": "stdout",
     "output_type": "stream",
     "text": [
      "Is Tuple Empty? False\n"
     ]
    }
   ],
   "source": [
    "print(\"Is Tuple Empty?\", len(tpl) == 0)"
   ]
  },
  {
   "cell_type": "code",
   "execution_count": 44,
   "metadata": {},
   "outputs": [
    {
     "name": "stdout",
     "output_type": "stream",
     "text": [
      "All indices of element 6: [2, 11, 14]\n"
     ]
    }
   ],
   "source": [
    "element=6\n",
    "indices = [i for i, x in enumerate(tpl) if x==element]\n",
    "print(f\"All indices of element {element}:\", indices)"
   ]
  },
  {
   "cell_type": "code",
   "execution_count": 45,
   "metadata": {},
   "outputs": [
    {
     "name": "stdout",
     "output_type": "stream",
     "text": [
      "38\n"
     ]
    }
   ],
   "source": [
    "if len(set(tpl))>1:\n",
    "    print(sorted(set(tpl))[-2])\n",
    "else:\n",
    "    print(\"No Second Largest Element\")"
   ]
  },
  {
   "cell_type": "code",
   "execution_count": 46,
   "metadata": {},
   "outputs": [
    {
     "name": "stdout",
     "output_type": "stream",
     "text": [
      "2\n"
     ]
    }
   ],
   "source": [
    "if len(set(tpl))>1:\n",
    "    print(sorted(set(tpl))[1])\n",
    "else:\n",
    "    print(\"No Second Smallest Element\")"
   ]
  },
  {
   "cell_type": "code",
   "execution_count": 47,
   "metadata": {},
   "outputs": [
    {
     "name": "stdout",
     "output_type": "stream",
     "text": [
      "Single Element Tuple: (7,)\n"
     ]
    }
   ],
   "source": [
    "element=7\n",
    "print(\"Single Element Tuple:\", (element,))"
   ]
  },
  {
   "cell_type": "code",
   "execution_count": 49,
   "metadata": {},
   "outputs": [
    {
     "name": "stdout",
     "output_type": "stream",
     "text": [
      "Tuple converted from list: (1, 2, 9, 6, 5, 2, 0, 51, 23, 45)\n"
     ]
    }
   ],
   "source": [
    "lst=[1,2,9,6,5,2,0,51,23,45]\n",
    "new_tpl=tuple(lst)\n",
    "print(\"Tuple converted from list:\", new_tpl)"
   ]
  },
  {
   "cell_type": "code",
   "execution_count": 50,
   "metadata": {},
   "outputs": [
    {
     "name": "stdout",
     "output_type": "stream",
     "text": [
      "Is Tuple Sorted? False\n"
     ]
    }
   ],
   "source": [
    "print(\"Is Tuple Sorted?\", tpl==tuple(sorted(tpl)))"
   ]
  },
  {
   "cell_type": "code",
   "execution_count": 51,
   "metadata": {},
   "outputs": [
    {
     "name": "stdout",
     "output_type": "stream",
     "text": [
      "Maximum of Subtuple: 6\n"
     ]
    }
   ],
   "source": [
    "subtpl = tpl[2:5]\n",
    "max_subtpl = max(subtpl)\n",
    "print(\"Maximum of Subtuple:\", max_subtpl)"
   ]
  },
  {
   "cell_type": "code",
   "execution_count": 52,
   "metadata": {},
   "outputs": [
    {
     "name": "stdout",
     "output_type": "stream",
     "text": [
      "Minimum of Subtuple: 4\n"
     ]
    }
   ],
   "source": [
    "min_subtpl = min(subtpl)\n",
    "print(\"Minimum of Subtuple:\", min_subtpl)"
   ]
  },
  {
   "cell_type": "code",
   "execution_count": 54,
   "metadata": {},
   "outputs": [
    {
     "name": "stdout",
     "output_type": "stream",
     "text": [
      "Tuple after removing element: (2, 3, 4, 5, 8, 4, 12, 10, 1, 23, 6, 54, 38, 6, 8, 9)\n"
     ]
    }
   ],
   "source": [
    "element=6\n",
    "tpl_list=list(tpl)\n",
    "tpl_list.remove(element)\n",
    "new_tpl=tuple(tpl_list)\n",
    "print(\"Tuple after removing element:\", new_tpl)"
   ]
  },
  {
   "cell_type": "code",
   "execution_count": 55,
   "metadata": {},
   "outputs": [
    {
     "name": "stdout",
     "output_type": "stream",
     "text": [
      "Nested Tuple: ((2, 3, 6), (4, 5, 8), (4, 12, 10))\n"
     ]
    }
   ],
   "source": [
    "nested_tpl = (tpl[:3], tpl[3:6], tpl[6:9])\n",
    "print(\"Nested Tuple:\", nested_tpl)"
   ]
  },
  {
   "cell_type": "code",
   "execution_count": 56,
   "metadata": {},
   "outputs": [
    {
     "name": "stdout",
     "output_type": "stream",
     "text": [
      "Repeated Tuple: (2, 2, 3, 3, 6, 6, 4, 4, 5, 5, 8, 8, 4, 4, 12, 12, 10, 10, 1, 1, 23, 23, 6, 6, 54, 54, 38, 38, 6, 6, 8, 8, 9, 9)\n"
     ]
    }
   ],
   "source": [
    "num=2\n",
    "new_tpl=tuple(x for x in tpl for _ in range(num))\n",
    "print(\"Repeated Tuple:\", new_tpl)"
   ]
  },
  {
   "cell_type": "code",
   "execution_count": 58,
   "metadata": {},
   "outputs": [
    {
     "name": "stdout",
     "output_type": "stream",
     "text": [
      "Range Tuple: (1, 2, 3, 4, 5, 6, 7, 8, 9, 10)\n"
     ]
    }
   ],
   "source": [
    "range_tpl=tuple(range(1, 11))\n",
    "print(\"Range Tuple:\", range_tpl)"
   ]
  },
  {
   "cell_type": "code",
   "execution_count": 59,
   "metadata": {},
   "outputs": [
    {
     "name": "stdout",
     "output_type": "stream",
     "text": [
      "Reversed Tuple: (9, 8, 6, 38, 54, 6, 23, 1, 10, 12, 4, 8, 5, 4, 6, 3, 2)\n"
     ]
    }
   ],
   "source": [
    "reversed_tpl = tpl[::-1]\n",
    "print(\"Reversed Tuple:\", reversed_tpl)"
   ]
  },
  {
   "cell_type": "code",
   "execution_count": 60,
   "metadata": {},
   "outputs": [
    {
     "name": "stdout",
     "output_type": "stream",
     "text": [
      "Is Tuple Palindrome? False\n"
     ]
    }
   ],
   "source": [
    "print(\"Is Tuple Palindrome?\", tpl==tpl[::-1])"
   ]
  },
  {
   "cell_type": "code",
   "execution_count": 61,
   "metadata": {},
   "outputs": [
    {
     "name": "stdout",
     "output_type": "stream",
     "text": [
      "Unique Elements Tuple: (2, 3, 6, 4, 5, 8, 12, 10, 1, 23, 54, 38, 9)\n"
     ]
    }
   ],
   "source": [
    "unq=[]\n",
    "for i in tpl:\n",
    "    if i not in unq:\n",
    "        unq.append(i)\n",
    "unq_tpl=tuple(unq)\n",
    "print(\"Unique Elements Tuple:\", unq_tpl)"
   ]
  }
 ],
 "metadata": {
  "kernelspec": {
   "display_name": "Python 3",
   "language": "python",
   "name": "python3"
  },
  "language_info": {
   "codemirror_mode": {
    "name": "ipython",
    "version": 3
   },
   "file_extension": ".py",
   "mimetype": "text/x-python",
   "name": "python",
   "nbconvert_exporter": "python",
   "pygments_lexer": "ipython3",
   "version": "3.13.2"
  }
 },
 "nbformat": 4,
 "nbformat_minor": 2
}
