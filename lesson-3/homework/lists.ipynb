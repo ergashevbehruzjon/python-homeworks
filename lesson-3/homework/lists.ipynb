{
 "cells": [
  {
   "cell_type": "code",
   "execution_count": 51,
   "metadata": {},
   "outputs": [],
   "source": [
    "lst=[1,2,3,4,8,7,4,0,12,32,45,23,1,4,2,8,21,12]"
   ]
  },
  {
   "cell_type": "code",
   "execution_count": 52,
   "metadata": {},
   "outputs": [
    {
     "name": "stdout",
     "output_type": "stream",
     "text": [
      "Number of occurences is 2\n"
     ]
    }
   ],
   "source": [
    "element=1\n",
    "print(\"Number of occurences is\", lst.count(element))"
   ]
  },
  {
   "cell_type": "code",
   "execution_count": 53,
   "metadata": {},
   "outputs": [
    {
     "name": "stdout",
     "output_type": "stream",
     "text": [
      "Sum: 189\n"
     ]
    }
   ],
   "source": [
    "print(\"Sum:\", sum(lst))"
   ]
  },
  {
   "cell_type": "code",
   "execution_count": 55,
   "metadata": {},
   "outputs": [
    {
     "name": "stdout",
     "output_type": "stream",
     "text": [
      "Max is 45\n"
     ]
    }
   ],
   "source": [
    "print(\"Max is\", max(lst))"
   ]
  },
  {
   "cell_type": "code",
   "execution_count": 56,
   "metadata": {},
   "outputs": [
    {
     "name": "stdout",
     "output_type": "stream",
     "text": [
      "Min is 0\n"
     ]
    }
   ],
   "source": [
    "print(\"Min is\", min(lst))"
   ]
  },
  {
   "cell_type": "code",
   "execution_count": 8,
   "metadata": {},
   "outputs": [
    {
     "name": "stdout",
     "output_type": "stream",
     "text": [
      "Element is in the list\n"
     ]
    }
   ],
   "source": [
    "element=4\n",
    "if element in lst:\n",
    "    print(\"Element is in the list\")\n",
    "else:\n",
    "    print(\"Element is not in the list\")"
   ]
  },
  {
   "cell_type": "code",
   "execution_count": 9,
   "metadata": {},
   "outputs": [
    {
     "name": "stdout",
     "output_type": "stream",
     "text": [
      "1\n"
     ]
    }
   ],
   "source": [
    "if lst:\n",
    "    print(lst[0])\n",
    "else:\n",
    "    print(\"List is empty\")"
   ]
  },
  {
   "cell_type": "code",
   "execution_count": 10,
   "metadata": {},
   "outputs": [
    {
     "name": "stdout",
     "output_type": "stream",
     "text": [
      "12\n"
     ]
    }
   ],
   "source": [
    "if lst:\n",
    "    print(lst[-1])\n",
    "else:\n",
    "    print(\"List is empty\")"
   ]
  },
  {
   "cell_type": "code",
   "execution_count": 14,
   "metadata": {},
   "outputs": [
    {
     "name": "stdout",
     "output_type": "stream",
     "text": [
      "[1, 2, 3]\n"
     ]
    }
   ],
   "source": [
    "new_lst=lst[:3]\n",
    "print(new_lst)"
   ]
  },
  {
   "cell_type": "code",
   "execution_count": 15,
   "metadata": {},
   "outputs": [
    {
     "name": "stdout",
     "output_type": "stream",
     "text": [
      "Reversed List: [12, 21, 8, 2, 4, 1, 23, 45, 32, 12, 0, 4, 7, 8, 4, 3, 2, 1]\n"
     ]
    }
   ],
   "source": [
    "reversed_lst = lst[::-1]\n",
    "print(\"Reversed List:\", reversed_lst)"
   ]
  },
  {
   "cell_type": "code",
   "execution_count": 17,
   "metadata": {},
   "outputs": [
    {
     "name": "stdout",
     "output_type": "stream",
     "text": [
      "Sorted List: [0, 1, 1, 2, 2, 3, 4, 4, 4, 7, 8, 8, 12, 12, 21, 23, 32, 45]\n"
     ]
    }
   ],
   "source": [
    "sorted_lst = sorted(lst)\n",
    "print(\"Sorted List:\", sorted_lst)"
   ]
  },
  {
   "cell_type": "code",
   "execution_count": 18,
   "metadata": {},
   "outputs": [
    {
     "name": "stdout",
     "output_type": "stream",
     "text": [
      "Unique List: [0, 1, 2, 3, 4, 32, 7, 8, 12, 45, 21, 23]\n"
     ]
    }
   ],
   "source": [
    "unique_lst = list(set(lst))\n",
    "print(\"Unique List:\", unique_lst)"
   ]
  },
  {
   "cell_type": "code",
   "execution_count": 57,
   "metadata": {},
   "outputs": [
    {
     "name": "stdout",
     "output_type": "stream",
     "text": [
      "List after insertion: [1, 2, 10, 3, 4, 8, 7, 4, 0, 12, 32, 45, 23, 1, 4, 2, 8, 21, 12]\n"
     ]
    }
   ],
   "source": [
    "index = 2\n",
    "element = 10\n",
    "lst.insert(index, element)\n",
    "print(\"List after insertion:\", lst)"
   ]
  },
  {
   "cell_type": "code",
   "execution_count": 58,
   "metadata": {},
   "outputs": [
    {
     "name": "stdout",
     "output_type": "stream",
     "text": [
      "Index of element: 4\n"
     ]
    }
   ],
   "source": [
    "element=4\n",
    "print(\"Index of element:\", lst.index(element))"
   ]
  },
  {
   "cell_type": "code",
   "execution_count": 60,
   "metadata": {},
   "outputs": [
    {
     "name": "stdout",
     "output_type": "stream",
     "text": [
      "Is list empty? False\n"
     ]
    }
   ],
   "source": [
    "print(\"Is list empty?\", len(lst)==0)"
   ]
  },
  {
   "cell_type": "code",
   "execution_count": 62,
   "metadata": {},
   "outputs": [
    {
     "name": "stdout",
     "output_type": "stream",
     "text": [
      "Count of even numbers: 12\n"
     ]
    }
   ],
   "source": [
    "even_count = sum(x%2<1 for x in lst)\n",
    "print(\"Count of even numbers:\", even_count)"
   ]
  },
  {
   "cell_type": "code",
   "execution_count": 63,
   "metadata": {},
   "outputs": [
    {
     "name": "stdout",
     "output_type": "stream",
     "text": [
      "Count of odd numbers: 7\n"
     ]
    }
   ],
   "source": [
    "odd_count = sum(x%2 for x in lst)\n",
    "print(\"Count of odd numbers:\", odd_count)"
   ]
  },
  {
   "cell_type": "code",
   "execution_count": 64,
   "metadata": {},
   "outputs": [
    {
     "name": "stdout",
     "output_type": "stream",
     "text": [
      "New concatenated List: [1, 2, 10, 3, 4, 8, 7, 4, 0, 12, 32, 45, 23, 1, 4, 2, 8, 21, 12, 23, 4, 5, 6, 23, 45, 7]\n"
     ]
    }
   ],
   "source": [
    "lst2=[23,4,5,6,23,45,7]\n",
    "new_lst = lst + lst2\n",
    "print(\"New concatenated List:\", new_lst)"
   ]
  },
  {
   "cell_type": "code",
   "execution_count": 71,
   "metadata": {},
   "outputs": [
    {
     "name": "stdout",
     "output_type": "stream",
     "text": [
      "Sublist is in the list\n"
     ]
    }
   ],
   "source": [
    "sublist = [4,0,12]\n",
    "if str(sublist)[1:-1] in str(lst):\n",
    "    print(\"Sublist is in the list\")\n",
    "else:\n",
    "    print(\"Sublist is not in the list\")"
   ]
  },
  {
   "cell_type": "code",
   "execution_count": 72,
   "metadata": {},
   "outputs": [
    {
     "name": "stdout",
     "output_type": "stream",
     "text": [
      "List after replacement: [1, 2, 10, 3, 7, 8, 7, 4, 0, 12, 32, 45, 23, 1, 4, 2, 8, 21, 12]\n"
     ]
    }
   ],
   "source": [
    "element = 4\n",
    "element_to_replace_with = 7\n",
    "if element in lst:\n",
    "    lst[lst.index(element)] = element_to_replace_with\n",
    "print(\"List after replacement:\", lst)"
   ]
  },
  {
   "cell_type": "code",
   "execution_count": 28,
   "metadata": {},
   "outputs": [
    {
     "name": "stdout",
     "output_type": "stream",
     "text": [
      "Second largest element: 45\n"
     ]
    }
   ],
   "source": [
    "second_largest = sorted(set(lst))[-2]\n",
    "print(\"Second largest element:\", second_largest)"
   ]
  },
  {
   "cell_type": "code",
   "execution_count": 29,
   "metadata": {},
   "outputs": [
    {
     "name": "stdout",
     "output_type": "stream",
     "text": [
      "Second smallest element: 1\n"
     ]
    }
   ],
   "source": [
    "second_smallest = sorted(set(lst))[1]\n",
    "print(\"Second smallest element:\", second_smallest)"
   ]
  },
  {
   "cell_type": "code",
   "execution_count": null,
   "metadata": {},
   "outputs": [
    {
     "name": "stdout",
     "output_type": "stream",
     "text": [
      "Even numbers: [2, 10, 8, 4, 0, 12, 32, 4, 2, 8, 12]\n"
     ]
    }
   ],
   "source": [
    "even_numbers = [x for x in lst if x%2<1]\n",
    "print(\"Even numbers:\", even_numbers)"
   ]
  },
  {
   "cell_type": "code",
   "execution_count": null,
   "metadata": {},
   "outputs": [
    {
     "name": "stdout",
     "output_type": "stream",
     "text": [
      "Odd numbers: [1, 3, 99, 7, 45, 23, 1, 21]\n"
     ]
    }
   ],
   "source": [
    "odd_numbers = [x for x in lst if x%2]\n",
    "print(\"Odd numbers:\", odd_numbers)"
   ]
  },
  {
   "cell_type": "code",
   "execution_count": 73,
   "metadata": {},
   "outputs": [
    {
     "name": "stdout",
     "output_type": "stream",
     "text": [
      "List length: 19\n"
     ]
    }
   ],
   "source": [
    "print(\"List length:\", len(lst))"
   ]
  },
  {
   "cell_type": "code",
   "execution_count": 74,
   "metadata": {},
   "outputs": [
    {
     "name": "stdout",
     "output_type": "stream",
     "text": [
      "Copy of list: [1, 2, 10, 3, 7, 8, 7, 4, 0, 12, 32, 45, 23, 1, 4, 2, 8, 21, 12]\n"
     ]
    }
   ],
   "source": [
    "copy_lst = lst.copy()\n",
    "print(\"Copy of list:\", copy_lst)"
   ]
  },
  {
   "cell_type": "code",
   "execution_count": 75,
   "metadata": {},
   "outputs": [
    {
     "name": "stdout",
     "output_type": "stream",
     "text": [
      "Middle element: 12\n"
     ]
    }
   ],
   "source": [
    "mid = len(lst)//2\n",
    "if len(lst)%2:\n",
    "    print(\"Middle element:\", lst[mid])\n",
    "else:\n",
    "    print(\"Middle elements:\", lst[mid-1], lst[mid])"
   ]
  },
  {
   "cell_type": "code",
   "execution_count": null,
   "metadata": {},
   "outputs": [
    {
     "name": "stdout",
     "output_type": "stream",
     "text": [
      "Maximum of sublist: 12\n"
     ]
    }
   ],
   "source": [
    "sublist = lst[2:5]\n",
    "print(\"Maximum of sublist:\", max(sublist))"
   ]
  },
  {
   "cell_type": "code",
   "execution_count": 76,
   "metadata": {},
   "outputs": [
    {
     "name": "stdout",
     "output_type": "stream",
     "text": [
      "Minimum of sublist: 0\n"
     ]
    }
   ],
   "source": [
    "sublist=lst[6:13]\n",
    "print(\"Minimum of sublist:\", min(sublist))"
   ]
  },
  {
   "cell_type": "code",
   "execution_count": 77,
   "metadata": {},
   "outputs": [
    {
     "name": "stdout",
     "output_type": "stream",
     "text": [
      "List after removal by index: [1, 2, 10, 3, 7, 8, 7, 4, 0, 12, 32, 45, 1, 4, 2, 8, 21, 12]\n"
     ]
    }
   ],
   "source": [
    "index=12\n",
    "if 0<=index<len(lst):\n",
    "    lst.pop(index)\n",
    "print(\"List after removal by index:\", lst)"
   ]
  },
  {
   "cell_type": "code",
   "execution_count": 78,
   "metadata": {},
   "outputs": [
    {
     "name": "stdout",
     "output_type": "stream",
     "text": [
      "Is list sorted? False\n"
     ]
    }
   ],
   "source": [
    "print(\"Is list sorted?\", lst == sorted(lst))"
   ]
  },
  {
   "cell_type": "code",
   "execution_count": 79,
   "metadata": {},
   "outputs": [
    {
     "name": "stdout",
     "output_type": "stream",
     "text": [
      "Repeated elements list: [1, 1, 2, 2, 10, 10, 3, 3, 7, 7, 8, 8, 7, 7, 4, 4, 0, 0, 12, 12, 32, 32, 45, 45, 1, 1, 4, 4, 2, 2, 8, 8, 21, 21, 12, 12]\n"
     ]
    }
   ],
   "source": [
    "number = 2\n",
    "repeat_lst = [x for x in lst for _ in range(number)]\n",
    "print(\"Repeated elements list:\", repeat_lst)"
   ]
  },
  {
   "cell_type": "code",
   "execution_count": 80,
   "metadata": {},
   "outputs": [
    {
     "name": "stdout",
     "output_type": "stream",
     "text": [
      "Merged and sorted list: [0, 1, 1, 1, 2, 2, 3, 3, 4, 4, 5, 6, 7, 7, 7, 8, 8, 8, 10, 12, 12, 21, 23, 32, 45]\n"
     ]
    }
   ],
   "source": [
    "another_lst = [5,6,7,8,1,3,23]\n",
    "new_lst = sorted(lst+another_lst)\n",
    "print(\"Merged and sorted list:\", new_lst)"
   ]
  },
  {
   "cell_type": "code",
   "execution_count": 81,
   "metadata": {},
   "outputs": [
    {
     "name": "stdout",
     "output_type": "stream",
     "text": [
      "All indices of element: [4, 6]\n"
     ]
    }
   ],
   "source": [
    "element=7\n",
    "all_indices = [i for i, x in enumerate(lst) if x==element]\n",
    "print(\"All indices of element:\", all_indices)"
   ]
  },
  {
   "cell_type": "code",
   "execution_count": 84,
   "metadata": {},
   "outputs": [
    {
     "name": "stdout",
     "output_type": "stream",
     "text": [
      "Rotated list: [2, 8, 21, 12, 1, 2, 10, 3, 7, 8, 7, 4, 0, 12, 32, 45, 1, 4]\n"
     ]
    }
   ],
   "source": [
    "shift_number = 4\n",
    "new_lst = lst[-shift_number:]+lst[:-shift_number]\n",
    "print(\"Rotated list:\", new_lst)"
   ]
  },
  {
   "cell_type": "code",
   "execution_count": 85,
   "metadata": {},
   "outputs": [
    {
     "name": "stdout",
     "output_type": "stream",
     "text": [
      "Range list: [1, 2, 3, 4, 5, 6, 7, 8, 9, 10]\n"
     ]
    }
   ],
   "source": [
    "range_lst = list(range(1,11))\n",
    "print(\"Range list:\", range_lst)"
   ]
  },
  {
   "cell_type": "code",
   "execution_count": null,
   "metadata": {},
   "outputs": [
    {
     "name": "stdout",
     "output_type": "stream",
     "text": [
      "Sum of positive numbers: 179\n"
     ]
    }
   ],
   "source": [
    "new_lst=[2,3,3,-1,3,-2,-6,7,-4,12,-12,-24,43,-76,-12]\n",
    "print(\"Sum of positive numbers:\", sum(x for x in new_lst if x>0))"
   ]
  },
  {
   "cell_type": "code",
   "execution_count": 87,
   "metadata": {},
   "outputs": [
    {
     "name": "stdout",
     "output_type": "stream",
     "text": [
      "Sum of negative numbers: -137\n"
     ]
    }
   ],
   "source": [
    "new_lst=[2,3,3,-1,3,-2,-6,7,-4,12,-12,-24,43,-76,-12]\n",
    "print(\"Sum of negative numbers:\", sum(x for x in new_lst if x<0))"
   ]
  },
  {
   "cell_type": "code",
   "execution_count": 89,
   "metadata": {},
   "outputs": [
    {
     "name": "stdout",
     "output_type": "stream",
     "text": [
      "Is list palindrome? False\n"
     ]
    }
   ],
   "source": [
    "print(\"Is list palindrome?\", lst==lst[::-1])"
   ]
  },
  {
   "cell_type": "code",
   "execution_count": 90,
   "metadata": {},
   "outputs": [
    {
     "name": "stdout",
     "output_type": "stream",
     "text": [
      "Nested list: [[1, 2, 10], [3, 7, 8], [7, 4, 0], [12, 32, 45], [1, 4, 2], [8, 21, 12]]\n"
     ]
    }
   ],
   "source": [
    "number=3\n",
    "nested_lst=[lst[i:i+number] for i in range(0,len(lst),number)]\n",
    "print(\"Nested list:\", nested_lst)"
   ]
  },
  {
   "cell_type": "code",
   "execution_count": 91,
   "metadata": {},
   "outputs": [
    {
     "name": "stdout",
     "output_type": "stream",
     "text": [
      "Unique elements in order: [1, 2, 10, 3, 7, 8, 4, 0, 12, 32, 45, 21]\n"
     ]
    }
   ],
   "source": [
    "unq_order_lst = []\n",
    "for x in lst:\n",
    "    if x not in unq_order_lst:\n",
    "        unq_order_lst.append(x)\n",
    "print(\"Unique elements in order:\", unq_order_lst)"
   ]
  }
 ],
 "metadata": {
  "kernelspec": {
   "display_name": "Python 3",
   "language": "python",
   "name": "python3"
  },
  "language_info": {
   "codemirror_mode": {
    "name": "ipython",
    "version": 3
   },
   "file_extension": ".py",
   "mimetype": "text/x-python",
   "name": "python",
   "nbconvert_exporter": "python",
   "pygments_lexer": "ipython3",
   "version": "3.13.2"
  }
 },
 "nbformat": 4,
 "nbformat_minor": 2
}
