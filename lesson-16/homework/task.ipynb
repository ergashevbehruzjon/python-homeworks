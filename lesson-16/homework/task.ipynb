{
 "cells": [
  {
   "cell_type": "code",
   "execution_count": 6,
   "metadata": {},
   "outputs": [],
   "source": [
    "import pandas as pd\n",
    "import sqlite3"
   ]
  },
  {
   "cell_type": "markdown",
   "metadata": {},
   "source": [
    "# Part 1"
   ]
  },
  {
   "cell_type": "code",
   "execution_count": 7,
   "metadata": {},
   "outputs": [
    {
     "name": "stdout",
     "output_type": "stream",
     "text": [
      "First 10 rows of customers table:\n",
      "   CustomerId  FirstName     LastName  \\\n",
      "0           1       Luís    Gonçalves   \n",
      "1           2     Leonie       Köhler   \n",
      "2           3   François     Tremblay   \n",
      "3           4      Bjørn       Hansen   \n",
      "4           5  František  Wichterlová   \n",
      "5           6     Helena         Holý   \n",
      "6           7     Astrid       Gruber   \n",
      "7           8       Daan      Peeters   \n",
      "8           9       Kara      Nielsen   \n",
      "9          10    Eduardo      Martins   \n",
      "\n",
      "                                            Company  \\\n",
      "0  Embraer - Empresa Brasileira de Aeronáutica S.A.   \n",
      "1                                              None   \n",
      "2                                              None   \n",
      "3                                              None   \n",
      "4                                  JetBrains s.r.o.   \n",
      "5                                              None   \n",
      "6                                              None   \n",
      "7                                              None   \n",
      "8                                              None   \n",
      "9                                  Woodstock Discos   \n",
      "\n",
      "                                Address                 City State  \\\n",
      "0       Av. Brigadeiro Faria Lima, 2170  São José dos Campos    SP   \n",
      "1               Theodor-Heuss-Straße 34            Stuttgart  None   \n",
      "2                     1498 rue Bélanger             Montréal    QC   \n",
      "3                      Ullevålsveien 14                 Oslo  None   \n",
      "4                         Klanova 9/506               Prague  None   \n",
      "5                         Rilská 3174/6               Prague  None   \n",
      "6  Rotenturmstraße 4, 1010 Innere Stadt               Vienne  None   \n",
      "7                       Grétrystraat 63             Brussels  None   \n",
      "8                   Sønder Boulevard 51           Copenhagen  None   \n",
      "9             Rua Dr. Falcão Filho, 155            São Paulo    SP   \n",
      "\n",
      "          Country PostalCode               Phone                 Fax  \\\n",
      "0          Brazil  12227-000  +55 (12) 3923-5555  +55 (12) 3923-5566   \n",
      "1         Germany      70174    +49 0711 2842222                None   \n",
      "2          Canada    H2G 1A7   +1 (514) 721-4711                None   \n",
      "3          Norway       0171     +47 22 44 22 22                None   \n",
      "4  Czech Republic      14700    +420 2 4172 5555    +420 2 4172 5555   \n",
      "5  Czech Republic      14300    +420 2 4177 0449                None   \n",
      "6         Austria       1010      +43 01 5134505                None   \n",
      "7         Belgium       1000    +32 02 219 03 03                None   \n",
      "8         Denmark       1720      +453 3331 9991                None   \n",
      "9          Brazil  01007-010  +55 (11) 3033-5446  +55 (11) 3033-4564   \n",
      "\n",
      "                      Email  SupportRepId  \n",
      "0      luisg@embraer.com.br             3  \n",
      "1     leonekohler@surfeu.de             5  \n",
      "2       ftremblay@gmail.com             3  \n",
      "3     bjorn.hansen@yahoo.no             4  \n",
      "4  frantisekw@jetbrains.com             4  \n",
      "5           hholy@gmail.com             5  \n",
      "6    astrid.gruber@apple.at             5  \n",
      "7     daan_peeters@apple.be             4  \n",
      "8     kara.nielsen@jubii.dk             4  \n",
      "9  eduardo@woodstock.com.br             4  \n"
     ]
    }
   ],
   "source": [
    "# chinook.db\n",
    "conn = sqlite3.connect('data/chinook.db')\n",
    "customers_df = pd.read_sql(\"SELECT * FROM customers\", conn)\n",
    "print(\"First 10 rows of customers table:\")\n",
    "print(customers_df.head(10))"
   ]
  },
  {
   "cell_type": "code",
   "execution_count": 16,
   "metadata": {},
   "outputs": [
    {
     "name": "stdout",
     "output_type": "stream",
     "text": [
      "\n",
      "Shape of iris dataset: (150, 5)\n",
      "Column names in iris dataset: Index(['sepalLength', 'sepalWidth', 'petalLength', 'petalWidth', 'species'], dtype='object')\n"
     ]
    }
   ],
   "source": [
    "# iris.json\n",
    "iris_df = pd.read_json('data/iris.json')\n",
    "print(\"\\nShape of iris dataset:\", iris_df.shape)\n",
    "print(\"Column names in iris dataset:\", iris_df.columns)\n",
    "# print(\"First 5 rows in iris dataset:\", iris_df.head())"
   ]
  },
  {
   "cell_type": "code",
   "execution_count": 9,
   "metadata": {},
   "outputs": [
    {
     "name": "stdout",
     "output_type": "stream",
     "text": [
      "\n",
      "First 5 rows of Titanic dataset:\n",
      "   PassengerId  Survived  Pclass  \\\n",
      "0            1         0       3   \n",
      "1            2         1       1   \n",
      "2            3         1       3   \n",
      "3            4         1       1   \n",
      "4            5         0       3   \n",
      "\n",
      "                                                Name     Sex   Age  SibSp  \\\n",
      "0                            Braund, Mr. Owen Harris    male  22.0      1   \n",
      "1  Cumings, Mrs. John Bradley (Florence Briggs Th...  female  38.0      1   \n",
      "2                             Heikkinen, Miss. Laina  female  26.0      0   \n",
      "3       Futrelle, Mrs. Jacques Heath (Lily May Peel)  female  35.0      1   \n",
      "4                           Allen, Mr. William Henry    male  35.0      0   \n",
      "\n",
      "   Parch            Ticket     Fare Cabin Embarked  \n",
      "0      0         A/5 21171   7.2500   NaN        S  \n",
      "1      0          PC 17599  71.2833   C85        C  \n",
      "2      0  STON/O2. 3101282   7.9250   NaN        S  \n",
      "3      0            113803  53.1000  C123        S  \n",
      "4      0            373450   8.0500   NaN        S  \n"
     ]
    }
   ],
   "source": [
    "# titanic.xlsx\n",
    "titanic_df = pd.read_excel('data/titanic.xlsx')\n",
    "print(\"\\nFirst 5 rows of Titanic dataset:\")\n",
    "print(titanic_df.head())"
   ]
  },
  {
   "cell_type": "code",
   "execution_count": null,
   "metadata": {},
   "outputs": [
    {
     "name": "stdout",
     "output_type": "stream",
     "text": [
      "\n",
      "Summary of Flights dataset:\n",
      "<class 'pandas.core.frame.DataFrame'>\n",
      "RangeIndex: 297605 entries, 0 to 297604\n",
      "Columns: 109 entries, Year to Div5TailNum\n",
      "dtypes: object(109)\n",
      "memory usage: 247.5+ MB\n",
      "None\n"
     ]
    }
   ],
   "source": [
    "# Flights parquet file\n",
    "\n",
    "# flights_df = pd.read_parquet('data/flights')\n",
    "# This code takes sooo long time, so I will read only the first file\n",
    "\n",
    "flights_df = pd.read_parquet('data/flights/part-00000-aefaf364-d401-4e57-92a5-82fae6fdc855-c000.snappy.parquet')\n",
    "flights_df.to_csv('data/flights.csv', index=False)\n",
    "print(\"\\nSummary of Flights dataset:\")\n",
    "print(flights_df.info())"
   ]
  },
  {
   "cell_type": "code",
   "execution_count": 57,
   "metadata": {},
   "outputs": [
    {
     "name": "stdout",
     "output_type": "stream",
     "text": [
      "\n",
      "Random sample of 10 rows from movie dataset:\n",
      "   color      director_name  num_critic_for_reviews  duration  \\\n",
      "0  Color      James Cameron                   723.0     178.0   \n",
      "1  Color     Gore Verbinski                   302.0     169.0   \n",
      "2  Color         Sam Mendes                   602.0     148.0   \n",
      "3  Color  Christopher Nolan                   813.0     164.0   \n",
      "4    NaN        Doug Walker                     NaN       NaN   \n",
      "5  Color     Andrew Stanton                   462.0     132.0   \n",
      "6  Color          Sam Raimi                   392.0     156.0   \n",
      "7  Color       Nathan Greno                   324.0     100.0   \n",
      "8  Color        Joss Whedon                   635.0     141.0   \n",
      "9  Color        David Yates                   375.0     153.0   \n",
      "\n",
      "   director_facebook_likes  actor_3_facebook_likes       actor_2_name  \\\n",
      "0                      0.0                   855.0   Joel David Moore   \n",
      "1                    563.0                  1000.0      Orlando Bloom   \n",
      "2                      0.0                   161.0       Rory Kinnear   \n",
      "3                  22000.0                 23000.0     Christian Bale   \n",
      "4                    131.0                     NaN         Rob Walker   \n",
      "5                    475.0                   530.0    Samantha Morton   \n",
      "6                      0.0                  4000.0       James Franco   \n",
      "7                     15.0                   284.0       Donna Murphy   \n",
      "8                      0.0                 19000.0  Robert Downey Jr.   \n",
      "9                    282.0                 10000.0   Daniel Radcliffe   \n",
      "\n",
      "   actor_1_facebook_likes        gross  \\\n",
      "0                  1000.0  760505847.0   \n",
      "1                 40000.0  309404152.0   \n",
      "2                 11000.0  200074175.0   \n",
      "3                 27000.0  448130642.0   \n",
      "4                   131.0          NaN   \n",
      "5                   640.0   73058679.0   \n",
      "6                 24000.0  336530303.0   \n",
      "7                   799.0  200807262.0   \n",
      "8                 26000.0  458991599.0   \n",
      "9                 25000.0  301956980.0   \n",
      "\n",
      "                                              genres  ...  \\\n",
      "0                    Action|Adventure|Fantasy|Sci-Fi  ...   \n",
      "1                           Action|Adventure|Fantasy  ...   \n",
      "2                          Action|Adventure|Thriller  ...   \n",
      "3                                    Action|Thriller  ...   \n",
      "4                                        Documentary  ...   \n",
      "5                            Action|Adventure|Sci-Fi  ...   \n",
      "6                           Action|Adventure|Romance  ...   \n",
      "7  Adventure|Animation|Comedy|Family|Fantasy|Musi...  ...   \n",
      "8                            Action|Adventure|Sci-Fi  ...   \n",
      "9                   Adventure|Family|Fantasy|Mystery  ...   \n",
      "\n",
      "  num_user_for_reviews language  country  content_rating       budget  \\\n",
      "0               3054.0  English      USA           PG-13  237000000.0   \n",
      "1               1238.0  English      USA           PG-13  300000000.0   \n",
      "2                994.0  English       UK           PG-13  245000000.0   \n",
      "3               2701.0  English      USA           PG-13  250000000.0   \n",
      "4                  NaN      NaN      NaN             NaN          NaN   \n",
      "5                738.0  English      USA           PG-13  263700000.0   \n",
      "6               1902.0  English      USA           PG-13  258000000.0   \n",
      "7                387.0  English      USA              PG  260000000.0   \n",
      "8               1117.0  English      USA           PG-13  250000000.0   \n",
      "9                973.0  English       UK              PG  250000000.0   \n",
      "\n",
      "   title_year actor_2_facebook_likes imdb_score  aspect_ratio  \\\n",
      "0      2009.0                  936.0        7.9          1.78   \n",
      "1      2007.0                 5000.0        7.1          2.35   \n",
      "2      2015.0                  393.0        6.8          2.35   \n",
      "3      2012.0                23000.0        8.5          2.35   \n",
      "4         NaN                   12.0        7.1           NaN   \n",
      "5      2012.0                  632.0        6.6          2.35   \n",
      "6      2007.0                11000.0        6.2          2.35   \n",
      "7      2010.0                  553.0        7.8          1.85   \n",
      "8      2015.0                21000.0        7.5          2.35   \n",
      "9      2009.0                11000.0        7.5          2.35   \n",
      "\n",
      "  movie_facebook_likes  \n",
      "0                33000  \n",
      "1                    0  \n",
      "2                85000  \n",
      "3               164000  \n",
      "4                    0  \n",
      "5                24000  \n",
      "6                    0  \n",
      "7                29000  \n",
      "8               118000  \n",
      "9                10000  \n",
      "\n",
      "[10 rows x 28 columns]\n"
     ]
    }
   ],
   "source": [
    "# movie.csv\n",
    "movie_df = pd.read_csv('data/movie.csv')\n",
    "print(\"\\nRandom sample of 10 rows from movie dataset:\")\n",
    "print(movie_df.head(10))"
   ]
  },
  {
   "cell_type": "markdown",
   "metadata": {},
   "source": [
    "# Part 2"
   ]
  },
  {
   "cell_type": "code",
   "execution_count": 58,
   "metadata": {},
   "outputs": [
    {
     "name": "stdout",
     "output_type": "stream",
     "text": [
      "\n",
      "Selected columns from iris dataset:\n",
      "   sepallength  sepalwidth\n",
      "0          5.1         3.5\n",
      "1          4.9         3.0\n",
      "2          4.7         3.2\n",
      "3          4.6         3.1\n",
      "4          5.0         3.6\n"
     ]
    }
   ],
   "source": [
    "# iris.json\n",
    "iris_df.columns = iris_df.columns.str.lower()\n",
    "iris_selected = iris_df[['sepallength', 'sepalwidth']]\n",
    "print(\"\\nSelected columns from iris dataset:\")\n",
    "print(iris_selected.head())"
   ]
  },
  {
   "cell_type": "code",
   "execution_count": 59,
   "metadata": {},
   "outputs": [
    {
     "name": "stdout",
     "output_type": "stream",
     "text": [
      "\n",
      "Passengers older than 30:\n",
      "    PassengerId  Survived  Pclass  \\\n",
      "1             2         1       1   \n",
      "3             4         1       1   \n",
      "4             5         0       3   \n",
      "6             7         0       1   \n",
      "11           12         1       1   \n",
      "\n",
      "                                                 Name     Sex   Age  SibSp  \\\n",
      "1   Cumings, Mrs. John Bradley (Florence Briggs Th...  female  38.0      1   \n",
      "3        Futrelle, Mrs. Jacques Heath (Lily May Peel)  female  35.0      1   \n",
      "4                            Allen, Mr. William Henry    male  35.0      0   \n",
      "6                             McCarthy, Mr. Timothy J    male  54.0      0   \n",
      "11                           Bonnell, Miss. Elizabeth  female  58.0      0   \n",
      "\n",
      "    Parch    Ticket     Fare Cabin Embarked  \n",
      "1       0  PC 17599  71.2833   C85        C  \n",
      "3       0    113803  53.1000  C123        S  \n",
      "4       0    373450   8.0500   NaN        S  \n",
      "6       0     17463  51.8625   E46        S  \n",
      "11      0    113783  26.5500  C103        S  \n",
      "\n",
      "Count of male and female passengers:\n",
      "Sex\n",
      "male      577\n",
      "female    314\n",
      "Name: count, dtype: int64\n"
     ]
    }
   ],
   "source": [
    "# titanic.xlsx\n",
    "titanic_filtered = titanic_df[titanic_df['Age'] > 30]\n",
    "print(\"\\nPassengers older than 30:\")\n",
    "print(titanic_filtered.head())\n",
    "\n",
    "gender_counts = titanic_df['Sex'].value_counts()\n",
    "print(\"\\nCount of male and female passengers:\")\n",
    "print(gender_counts)"
   ]
  },
  {
   "cell_type": "code",
   "execution_count": 60,
   "metadata": {},
   "outputs": [
    {
     "name": "stdout",
     "output_type": "stream",
     "text": [
      "Index(['Year', 'Quarter', 'Month', 'DayofMonth', 'DayOfWeek', 'FlightDate',\n",
      "       'Reporting_Airline', 'DOT_ID_Reporting_Airline',\n",
      "       'IATA_CODE_Reporting_Airline', 'Tail_Number',\n",
      "       ...\n",
      "       'Div4WheelsOff', 'Div4TailNum', 'Div5Airport', 'Div5AirportID',\n",
      "       'Div5AirportSeqID', 'Div5WheelsOn', 'Div5TotalGTime',\n",
      "       'Div5LongestGTime', 'Div5WheelsOff', 'Div5TailNum'],\n",
      "      dtype='object', length=109)\n",
      "\n",
      "Selected columns from Flights dataset:\n",
      "  Origin Dest\n",
      "0    MDT  CLT\n",
      "1    MDT  CLT\n",
      "2    MDT  CLT\n",
      "3    MDT  CLT\n",
      "4    MDT  CLT\n",
      "\n",
      "Number of unique destinations: 337\n"
     ]
    }
   ],
   "source": [
    "# Flights parquet file\n",
    "print(flights_df.columns)\n",
    "flights_selected = flights_df[['Origin', 'Dest']]\n",
    "print(\"\\nSelected columns from Flights dataset:\")\n",
    "print(flights_selected.head())\n",
    "\n",
    "unique_destinations = flights_df['Dest'].nunique()\n",
    "print(\"\\nNumber of unique destinations:\", unique_destinations)"
   ]
  },
  {
   "cell_type": "code",
   "execution_count": 61,
   "metadata": {},
   "outputs": [
    {
     "name": "stdout",
     "output_type": "stream",
     "text": [
      "\n",
      "Movies longer than 120 minutes sorted by director_facebook_likes:\n",
      "      color      director_name  num_critic_for_reviews  duration  \\\n",
      "66    Color  Christopher Nolan                   645.0     152.0   \n",
      "3     Color  Christopher Nolan                   813.0     164.0   \n",
      "120   Color  Christopher Nolan                   478.0     128.0   \n",
      "1222  Color  Christopher Nolan                   341.0     130.0   \n",
      "97    Color  Christopher Nolan                   642.0     148.0   \n",
      "\n",
      "      director_facebook_likes  actor_3_facebook_likes    actor_2_name  \\\n",
      "66                    22000.0                 11000.0    Heath Ledger   \n",
      "3                     22000.0                 23000.0  Christian Bale   \n",
      "120                   22000.0                 11000.0     Liam Neeson   \n",
      "1222                  22000.0                 19000.0    Hugh Jackman   \n",
      "97                    22000.0                 23000.0       Tom Hardy   \n",
      "\n",
      "      actor_1_facebook_likes        gross                            genres  \\\n",
      "66                   23000.0  533316061.0       Action|Crime|Drama|Thriller   \n",
      "3                    27000.0  448130642.0                   Action|Thriller   \n",
      "120                  23000.0  205343774.0                  Action|Adventure   \n",
      "1222                 23000.0   53082743.0     Drama|Mystery|Sci-Fi|Thriller   \n",
      "97                   29000.0  292568851.0  Action|Adventure|Sci-Fi|Thriller   \n",
      "\n",
      "      ... num_user_for_reviews language  country  content_rating       budget  \\\n",
      "66    ...               4667.0  English      USA           PG-13  185000000.0   \n",
      "3     ...               2701.0  English      USA           PG-13  250000000.0   \n",
      "120   ...               2685.0  English      USA           PG-13  150000000.0   \n",
      "1222  ...               1100.0  English      USA           PG-13   40000000.0   \n",
      "97    ...               2803.0  English      USA           PG-13  160000000.0   \n",
      "\n",
      "      title_year actor_2_facebook_likes imdb_score  aspect_ratio  \\\n",
      "66        2008.0                13000.0        9.0          2.35   \n",
      "3         2012.0                23000.0        8.5          2.35   \n",
      "120       2005.0                14000.0        8.3          2.35   \n",
      "1222      2006.0                20000.0        8.5          2.35   \n",
      "97        2010.0                27000.0        8.8          2.35   \n",
      "\n",
      "     movie_facebook_likes  \n",
      "66                  37000  \n",
      "3                  164000  \n",
      "120                 15000  \n",
      "1222                49000  \n",
      "97                 175000  \n",
      "\n",
      "[5 rows x 28 columns]\n"
     ]
    }
   ],
   "source": [
    "# movie.csv\n",
    "long_movies = movie_df[movie_df['duration'] > 120]\n",
    "\n",
    "sorted_movies = long_movies.sort_values(by='director_facebook_likes', ascending=False)\n",
    "print(\"\\nMovies longer than 120 minutes sorted by director_facebook_likes:\")\n",
    "print(sorted_movies.head())"
   ]
  },
  {
   "cell_type": "markdown",
   "metadata": {},
   "source": [
    "# Part 3"
   ]
  },
  {
   "cell_type": "code",
   "execution_count": 62,
   "metadata": {},
   "outputs": [
    {
     "name": "stdout",
     "output_type": "stream",
     "text": [
      "\n",
      "Statistics for iris dataset:\n",
      "                 mean  median       std\n",
      "sepallength  5.843333    5.80  0.828066\n",
      "sepalwidth   3.057333    3.00  0.435866\n",
      "petallength  3.758000    4.35  1.765298\n",
      "petalwidth   1.199333    1.30  0.762238\n"
     ]
    }
   ],
   "source": [
    "# iris.json\n",
    "iris_stats = iris_df.describe().T\n",
    "iris_stats['median']=[iris_df[i].median() for i in iris_stats.index]\n",
    "print(\"\\nStatistics for iris dataset:\")\n",
    "print(iris_stats[['mean', 'median', 'std']])"
   ]
  },
  {
   "cell_type": "code",
   "execution_count": 63,
   "metadata": {},
   "outputs": [
    {
     "name": "stdout",
     "output_type": "stream",
     "text": [
      "\n",
      "Titanic passenger age statistics:\n",
      "Min: 0.42, Max: 80.0, Sum: 21205.17\n"
     ]
    }
   ],
   "source": [
    "# titanic.xlsx\n",
    "age_min = titanic_df['Age'].min()\n",
    "age_max = titanic_df['Age'].max()\n",
    "age_sum = titanic_df['Age'].sum()\n",
    "print(\"\\nTitanic passenger age statistics:\")\n",
    "print(f\"Min: {age_min}, Max: {age_max}, Sum: {age_sum}\")"
   ]
  },
  {
   "cell_type": "code",
   "execution_count": 64,
   "metadata": {},
   "outputs": [
    {
     "name": "stdout",
     "output_type": "stream",
     "text": [
      "\n",
      "Director with the highest total director_facebook_likes:\n",
      "Steven Spielberg with 364000.0 likes\n",
      "\n",
      "5 longest movies and their directors:\n",
      "                   movie_title  duration        director_name\n",
      "1694                   Trapped     511.0                  NaN\n",
      "2436                    Carlos     334.0                  NaN\n",
      "1487       Blood In, Blood Out     330.0      Taylor Hackford\n",
      "1134             Heaven's Gate     325.0       Michael Cimino\n",
      "3254  The Legend of Suriyothai     300.0  Chatrichalerm Yukol\n"
     ]
    }
   ],
   "source": [
    "# movie.csv\n",
    "director_likes = movie_df.groupby('director_name')['director_facebook_likes'].sum()\n",
    "top_director = director_likes.idxmax()\n",
    "top_likes = director_likes.max()\n",
    "print(\"\\nDirector with the highest total director_facebook_likes:\")\n",
    "print(f\"{top_director} with {top_likes} likes\")\n",
    "\n",
    "longest_movies = movie_df.nlargest(5, 'duration')[['movie_title', 'duration', 'director_name']]\n",
    "print(\"\\n5 longest movies and their directors:\")\n",
    "print(longest_movies)"
   ]
  },
  {
   "cell_type": "code",
   "execution_count": 65,
   "metadata": {},
   "outputs": [
    {
     "name": "stdout",
     "output_type": "stream",
     "text": [
      "\n",
      "Missing values in Flights dataset:\n",
      "Year                     0\n",
      "Quarter                  0\n",
      "Month                    0\n",
      "DayofMonth               0\n",
      "DayOfWeek                0\n",
      "                     ...  \n",
      "Div5WheelsOn        297605\n",
      "Div5TotalGTime      297605\n",
      "Div5LongestGTime    297605\n",
      "Div5WheelsOff       297605\n",
      "Div5TailNum         297605\n",
      "Length: 109, dtype: int64\n",
      "\n",
      "Missing values filled with column mean.\n"
     ]
    }
   ],
   "source": [
    "# Flights parquet file\n",
    "missing_values = flights_df.isnull().sum()\n",
    "print(\"\\nMissing values in Flights dataset:\")\n",
    "print(missing_values)\n",
    "\n",
    "numerical_columns = flights_df.select_dtypes(include=['float64', 'int64']).columns\n",
    "for col in numerical_columns:\n",
    "    if flights_df[col].isnull().any():\n",
    "        flights_df[col].fillna(flights_df[col].mean(), inplace=True)\n",
    "print(\"\\nMissing values filled with column mean.\")"
   ]
  },
  {
   "cell_type": "code",
   "execution_count": 56,
   "metadata": {},
   "outputs": [],
   "source": [
    "conn.close()"
   ]
  }
 ],
 "metadata": {
  "kernelspec": {
   "display_name": "Python 3",
   "language": "python",
   "name": "python3"
  },
  "language_info": {
   "codemirror_mode": {
    "name": "ipython",
    "version": 3
   },
   "file_extension": ".py",
   "mimetype": "text/x-python",
   "name": "python",
   "nbconvert_exporter": "python",
   "pygments_lexer": "ipython3",
   "version": "3.13.2"
  }
 },
 "nbformat": 4,
 "nbformat_minor": 2
}
